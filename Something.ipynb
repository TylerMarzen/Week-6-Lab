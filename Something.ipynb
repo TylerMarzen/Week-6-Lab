{
 "cells": [
  {
   "cell_type": "code",
   "execution_count": null,
   "metadata": {},
   "outputs": [],
   "source": [
    "# Beginning of Tyler Marzen's work\n",
    "\n",
    "userName = \"\"\n",
    "userAge = 0\n",
    "userCitizen = False\n",
    "def getUserInfo():\n",
    "    name = input(\"What is your full legal name?\")\n",
    "    \n",
    "    age = input(\"How old will you be on this year's Election Day?\")\n",
    "    while(True):\n",
    "        try:\n",
    "            age = int(age)\n",
    "            if age <= 0:\n",
    "                raise Exception\n",
    "            break;\n",
    "        except:\n",
    "            print(\"Please enter a valid age.\")\n",
    "            age = input(\"How old will you be on this year's Election Day?\")\n",
    "            \n",
    "    citizen = input(\"Are you a citizen of the United States? Enter '1' for YES and '0' for NO.\")\n",
    "    while(True):\n",
    "        try:\n",
    "            citizen = int(citizen)\n",
    "            if citizen != 0 and citizen != 1:\n",
    "                raise Exception\n",
    "            break;\n",
    "        except:\n",
    "            print(\"Please enter a valid answer.\")\n",
    "            age = input(\"Are you a citizen of the United States? Enter '1' for YES and '0' for NO.\")\n",
    "            \n",
    "    if citizen == 0:\n",
    "        citizen = False\n",
    "    elif citizen == 1:\n",
    "        citizen = True\n",
    "    userList = [name, age, citizen]\n",
    "    return userList\n",
    "\n",
    "userInfo = getUserInfo()\n",
    "userName = userInfo[0]  # Global variable for user's name\n",
    "userAge = userInfo[1]   # Global variable for user's age\n",
    "userCitizen = userInfo[2]   # Global variable for user's citizenship status\n",
    "\n",
    "# End of Tyler Marzen's work\n",
    " \n",
    "# Beginning of Robby Horvath's work\n",
    "def isAbleToVote():\n",
    "    if(userInfo[2] = True && userInfo[1] >= 18)\n",
    "        print(userInfo[0] + ': You are legally allowed to vote!')\n",
    "    else\n",
    "        print(userInfo[0] + ': Sorry, you are not legally allowed to vote.')\n",
    "\n",
    "# End of Robby Horvath's work"
   ]
  }
 ],
 "metadata": {
  "kernelspec": {
   "display_name": "Python 3",
   "language": "python",
   "name": "python3"
  },
  "language_info": {
   "codemirror_mode": {
    "name": "ipython",
    "version": 3
   },
   "file_extension": ".py",
   "mimetype": "text/x-python",
   "name": "python",
   "nbconvert_exporter": "python",
   "pygments_lexer": "ipython3",
   "version": "3.8.3"
  }
 },
 "nbformat": 4,
 "nbformat_minor": 4
}