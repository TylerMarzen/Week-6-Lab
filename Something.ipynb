{
 "cells": [
  {
   "cell_type": "code",
   "execution_count": 30,
   "metadata": {},
   "outputs": [
    {
     "name": "stdin",
     "output_type": "stream",
     "text": [
      "What is your full legal name? Tyler\n",
      "How old will you be on this year's Election Day? 1\n",
      "Are you a citizen of the United States? Enter '1' for YES and '0' for NO. 1\n"
     ]
    },
    {
     "ename": "TypeError",
     "evalue": "'function' object is not subscriptable",
     "output_type": "error",
     "traceback": [
      "\u001b[0;31m---------------------------------------------------------------------------\u001b[0m",
      "\u001b[0;31mTypeError\u001b[0m                                 Traceback (most recent call last)",
      "\u001b[0;32m<ipython-input-30-219a1578d89a>\u001b[0m in \u001b[0;36m<module>\u001b[0;34m\u001b[0m\n\u001b[1;32m     35\u001b[0m \u001b[0;34m\u001b[0m\u001b[0m\n\u001b[1;32m     36\u001b[0m \u001b[0mtest\u001b[0m\u001b[0;34m(\u001b[0m\u001b[0;34m)\u001b[0m\u001b[0;34m\u001b[0m\u001b[0;34m\u001b[0m\u001b[0m\n\u001b[0;32m---> 37\u001b[0;31m \u001b[0muserName\u001b[0m \u001b[0;34m=\u001b[0m \u001b[0muserInfo\u001b[0m\u001b[0;34m[\u001b[0m\u001b[0;36m0\u001b[0m\u001b[0;34m]\u001b[0m\u001b[0;34m\u001b[0m\u001b[0;34m\u001b[0m\u001b[0m\n\u001b[0m\u001b[1;32m     38\u001b[0m \u001b[0muserAge\u001b[0m \u001b[0;34m=\u001b[0m \u001b[0muserInfo\u001b[0m\u001b[0;34m[\u001b[0m\u001b[0;36m1\u001b[0m\u001b[0;34m]\u001b[0m\u001b[0;34m\u001b[0m\u001b[0;34m\u001b[0m\u001b[0m\n\u001b[1;32m     39\u001b[0m \u001b[0muserCitizen\u001b[0m \u001b[0;34m=\u001b[0m \u001b[0muserInfo\u001b[0m\u001b[0;34m[\u001b[0m\u001b[0;36m2\u001b[0m\u001b[0;34m]\u001b[0m\u001b[0;34m\u001b[0m\u001b[0;34m\u001b[0m\u001b[0m\n",
      "\u001b[0;31mTypeError\u001b[0m: 'function' object is not subscriptable"
     ]
    }
   ],
   "source": [
    "userName = \"\"\n",
    "userAge = 0\n",
    "userCitizen = False\n",
    "def test():\n",
    "    name = input(\"What is your full legal name?\")\n",
    "    \n",
    "    age = input(\"How old will you be on this year's Election Day?\")\n",
    "    while(True):\n",
    "        try:\n",
    "            age = int(age)\n",
    "            if age <= 0:\n",
    "                raise Exception\n",
    "            break;\n",
    "        except:\n",
    "            print(\"Please enter a valid age.\")\n",
    "            age = input(\"How old will you be on this year's Election Day?\")\n",
    "            \n",
    "    citizen = input(\"Are you a citizen of the United States? Enter '1' for YES and '0' for NO.\")\n",
    "    while(True):\n",
    "        try:\n",
    "            citizen = int(citizen)\n",
    "            if citizen != 0 and citizen != 1:\n",
    "                raise Exception\n",
    "            break;\n",
    "        except:\n",
    "            print(\"Please enter a valid answer.\")\n",
    "            age = input(\"Are you a citizen of the United States? Enter '1' for YES and '0' for NO.\")\n",
    "            \n",
    "    if citizen == 0:\n",
    "        citizen = False\n",
    "    elif citizen == 1:\n",
    "        citizen = True\n",
    "    userInfo = [name, age, citizen]\n",
    "    return userInfo\n",
    "\n",
    "test()\n",
    "userName = userInfo[0]\n",
    "userAge = userInfo[1]\n",
    "userCitizen = userInfo[2]\n",
    "\n",
    "print(userName, userAge, userCitizen)\n",
    "\n"
   ]
  },
  {
   "cell_type": "code",
   "execution_count": null,
   "metadata": {},
   "outputs": [],
   "source": []
  },
  {
   "cell_type": "code",
   "execution_count": null,
   "metadata": {},
   "outputs": [],
   "source": []
  }
 ],
 "metadata": {
  "kernelspec": {
   "display_name": "Python 3",
   "language": "python",
   "name": "python3"
  },
  "language_info": {
   "codemirror_mode": {
    "name": "ipython",
    "version": 3
   },
   "file_extension": ".py",
   "mimetype": "text/x-python",
   "name": "python",
   "nbconvert_exporter": "python",
   "pygments_lexer": "ipython3",
   "version": "3.8.3"
  }
 },
 "nbformat": 4,
 "nbformat_minor": 4
}
